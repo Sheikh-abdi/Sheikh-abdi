{
 "cells": [
  {
   "cell_type": "code",
   "execution_count": 1,
   "id": "422bb1ce",
   "metadata": {
    "_cell_guid": "b1076dfc-b9ad-4769-8c92-a6c4dae69d19",
    "_uuid": "8f2839f25d086af736a60e9eeb907d3b93b6e0e5",
    "execution": {
     "iopub.execute_input": "2025-01-11T09:57:10.625651Z",
     "iopub.status.busy": "2025-01-11T09:57:10.625182Z",
     "iopub.status.idle": "2025-01-11T09:57:10.635139Z",
     "shell.execute_reply": "2025-01-11T09:57:10.633571Z"
    },
    "papermill": {
     "duration": 0.016853,
     "end_time": "2025-01-11T09:57:10.637856",
     "exception": false,
     "start_time": "2025-01-11T09:57:10.621003",
     "status": "completed"
    },
    "tags": []
   },
   "outputs": [
    {
     "name": "stdout",
     "output_type": "stream",
     "text": [
      "/kaggle/input/playground-series-s5e1/sample_submission.csv\n",
      "/kaggle/input/playground-series-s5e1/train.csv\n",
      "/kaggle/input/playground-series-s5e1/test.csv\n"
     ]
    }
   ],
   "source": [
    "import os\n",
    "for dirname, _, filenames in os.walk('/kaggle/input'):\n",
    "    for filename in filenames:\n",
    "        print(os.path.join(dirname, filename))\n"
   ]
  },
  {
   "cell_type": "code",
   "execution_count": 2,
   "id": "c92af249",
   "metadata": {
    "execution": {
     "iopub.execute_input": "2025-01-11T09:57:10.644670Z",
     "iopub.status.busy": "2025-01-11T09:57:10.644268Z",
     "iopub.status.idle": "2025-01-11T09:57:41.005685Z",
     "shell.execute_reply": "2025-01-11T09:57:41.004120Z"
    },
    "papermill": {
     "duration": 30.366902,
     "end_time": "2025-01-11T09:57:41.007655",
     "exception": false,
     "start_time": "2025-01-11T09:57:10.640753",
     "status": "completed"
    },
    "tags": []
   },
   "outputs": [
    {
     "name": "stdout",
     "output_type": "stream",
     "text": [
      "Validation MAPE: 0.7784617036751882\n",
      "Submission file created.\n"
     ]
    }
   ],
   "source": [
    "# Import necessary libraries\n",
    "import pandas as pd\n",
    "import numpy as np\n",
    "from sklearn.model_selection import train_test_split\n",
    "from sklearn.preprocessing import OneHotEncoder\n",
    "from sklearn.ensemble import GradientBoostingRegressor\n",
    "from sklearn.metrics import mean_absolute_percentage_error\n",
    "\n",
    "# Load the data\n",
    "train_data = pd.read_csv('/kaggle/input/playground-series-s5e1/train.csv')\n",
    "test_data = pd.read_csv('/kaggle/input/playground-series-s5e1/test.csv')\n",
    "\n",
    "# Handle missing values in the target column 'num_sold'\n",
    "train_data = train_data.dropna(subset=['num_sold'])\n",
    "\n",
    "# Convert 'date' column to datetime format\n",
    "train_data['date'] = pd.to_datetime(train_data['date'])\n",
    "test_data['date'] = pd.to_datetime(test_data['date'])\n",
    "\n",
    "# Extract date features\n",
    "for df in [train_data, test_data]:\n",
    "    df['year'] = df['date'].dt.year\n",
    "    df['month'] = df['date'].dt.month\n",
    "    df['day'] = df['date'].dt.day\n",
    "    df['weekday'] = df['date'].dt.weekday\n",
    "\n",
    "# Drop the original 'date' column\n",
    "train_data = train_data.drop(columns=['date'])\n",
    "test_data = test_data.drop(columns=['date'])\n",
    "\n",
    "# Separate features and target variable\n",
    "X = train_data.drop(columns=['num_sold'])\n",
    "y = train_data['num_sold']\n",
    "\n",
    "# Align train and test datasets\n",
    "combined_data = pd.concat([X, test_data], axis=0)\n",
    "\n",
    "# One-hot encode categorical features\n",
    "categorical_columns = ['country', 'store', 'product']\n",
    "ohe = OneHotEncoder(sparse_output=False, handle_unknown='ignore')\n",
    "ohe_features = ohe.fit_transform(combined_data[categorical_columns])\n",
    "\n",
    "# Create a DataFrame for the encoded features\n",
    "encoded_feature_names = ohe.get_feature_names_out(categorical_columns)\n",
    "ohe_df = pd.DataFrame(ohe_features, columns=encoded_feature_names, index=combined_data.index)\n",
    "\n",
    "# Concatenate encoded features with the original dataset\n",
    "combined_data = pd.concat([combined_data.drop(columns=categorical_columns), ohe_df], axis=1)\n",
    "\n",
    "# Split combined data back into train and test sets\n",
    "X = combined_data.iloc[:len(X)]\n",
    "test_features = combined_data.iloc[len(X):]\n",
    "\n",
    "# Split the training data for validation\n",
    "X_train, X_val, y_train, y_val = train_test_split(X, y, test_size=0.2, random_state=42)\n",
    "\n",
    "# Model training\n",
    "model = GradientBoostingRegressor(random_state=42)\n",
    "model.fit(X_train, y_train)\n",
    "\n",
    "# Validation\n",
    "val_predictions = model.predict(X_val)\n",
    "val_mape = mean_absolute_percentage_error(y_val, val_predictions)\n",
    "print(f\"Validation MAPE: {val_mape}\")\n",
    "\n",
    "# Make predictions on the test set\n",
    "test_predictions = model.predict(test_features)\n",
    "\n",
    "# Prepare submission file\n",
    "test_data['num_sold'] = test_predictions\n",
    "submission = test_data[['id', 'num_sold']]\n",
    "submission.to_csv('submission.csv', index=False)\n",
    "print(\"Submission file created.\")\n"
   ]
  },
  {
   "cell_type": "code",
   "execution_count": null,
   "id": "d9ec8bc2",
   "metadata": {
    "papermill": {
     "duration": 0.002305,
     "end_time": "2025-01-11T09:57:41.012910",
     "exception": false,
     "start_time": "2025-01-11T09:57:41.010605",
     "status": "completed"
    },
    "tags": []
   },
   "outputs": [],
   "source": []
  },
  {
   "cell_type": "code",
   "execution_count": null,
   "id": "fa732861",
   "metadata": {
    "papermill": {
     "duration": 0.002225,
     "end_time": "2025-01-11T09:57:41.017693",
     "exception": false,
     "start_time": "2025-01-11T09:57:41.015468",
     "status": "completed"
    },
    "tags": []
   },
   "outputs": [],
   "source": []
  },
  {
   "cell_type": "code",
   "execution_count": null,
   "id": "e8735f52",
   "metadata": {
    "papermill": {
     "duration": 0.002127,
     "end_time": "2025-01-11T09:57:41.022301",
     "exception": false,
     "start_time": "2025-01-11T09:57:41.020174",
     "status": "completed"
    },
    "tags": []
   },
   "outputs": [],
   "source": []
  },
  {
   "cell_type": "code",
   "execution_count": null,
   "id": "d222a1a2",
   "metadata": {
    "papermill": {
     "duration": 0.002131,
     "end_time": "2025-01-11T09:57:41.026884",
     "exception": false,
     "start_time": "2025-01-11T09:57:41.024753",
     "status": "completed"
    },
    "tags": []
   },
   "outputs": [],
   "source": []
  },
  {
   "cell_type": "code",
   "execution_count": null,
   "id": "d5d025fc",
   "metadata": {
    "papermill": {
     "duration": 0.002185,
     "end_time": "2025-01-11T09:57:41.031655",
     "exception": false,
     "start_time": "2025-01-11T09:57:41.029470",
     "status": "completed"
    },
    "tags": []
   },
   "outputs": [],
   "source": []
  },
  {
   "cell_type": "code",
   "execution_count": null,
   "id": "01a90e3d",
   "metadata": {
    "papermill": {
     "duration": 0.00222,
     "end_time": "2025-01-11T09:57:41.036246",
     "exception": false,
     "start_time": "2025-01-11T09:57:41.034026",
     "status": "completed"
    },
    "tags": []
   },
   "outputs": [],
   "source": []
  }
 ],
 "metadata": {
  "kaggle": {
   "accelerator": "none",
   "dataSources": [
    {
     "databundleVersionId": 10652996,
     "sourceId": 85723,
     "sourceType": "competition"
    }
   ],
   "dockerImageVersionId": 30822,
   "isGpuEnabled": false,
   "isInternetEnabled": true,
   "language": "python",
   "sourceType": "notebook"
  },
  "kernelspec": {
   "display_name": "Python 3",
   "language": "python",
   "name": "python3"
  },
  "language_info": {
   "codemirror_mode": {
    "name": "ipython",
    "version": 3
   },
   "file_extension": ".py",
   "mimetype": "text/x-python",
   "name": "python",
   "nbconvert_exporter": "python",
   "pygments_lexer": "ipython3",
   "version": "3.10.12"
  },
  "papermill": {
   "default_parameters": {},
   "duration": 33.468273,
   "end_time": "2025-01-11T09:57:41.759606",
   "environment_variables": {},
   "exception": null,
   "input_path": "__notebook__.ipynb",
   "output_path": "__notebook__.ipynb",
   "parameters": {},
   "start_time": "2025-01-11T09:57:08.291333",
   "version": "2.6.0"
  }
 },
 "nbformat": 4,
 "nbformat_minor": 5
}
